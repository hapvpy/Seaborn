{
  "nbformat": 4,
  "nbformat_minor": 0,
  "metadata": {
    "colab": {
      "provenance": []
    },
    "kernelspec": {
      "name": "python3",
      "display_name": "Python 3"
    },
    "language_info": {
      "name": "python"
    }
  },
  "cells": [
    {
      "cell_type": "markdown",
      "source": [
        "데이터를 분석하거나 모델링하려는 노력의 초기 단계는 변수가 어떻게 분포되어 있는지 이해하는 것입니다. 분포 시각화 기술은 많은 중요한 질문에 대한 빠른 답변을 제공할 수 있습니다. \n",
        "  - 관찰 범위는 어느 정도입니까? \n",
        "  - 그들의 중심 경향은 무엇입니까? \n",
        "  - 한 방향으로 많이 치우쳐 있습니까? \n",
        "  - 이중성에 대한 증거가 있습니까? \n",
        "  - 중요한 특이치가 있습니까? \n",
        "  - 이러한 질문에 대한 답은 다른 변수로 정의된 하위 집합에 따라 다릅니까?"
      ],
      "metadata": {
        "id": "UYyL1b8qCk37"
      }
    },
    {
      "cell_type": "markdown",
      "source": [
        "배포 모듈에는 다음과 같은 질문에 답하도록 설계된 여러 기능이 포함되어 있습니다. 축 수준 함수는 `histplot()`, `kdeplot()`, `ecdfplot()` 및 `rugplot()`입니다. 이들은 그림 수준 `displot()`, `jointplot()` 및 `pairplot()` 함수 내에서 함께 그룹화됩니다."
      ],
      "metadata": {
        "id": "IyqIjWEdCk0M"
      }
    },
    {
      "cell_type": "markdown",
      "source": [
        "분포를 시각화하는 방법에는 여러 가지가 있으며 각각 상대적인 장점과 단점이 있습니다. 특정 목표에 가장 적합한 접근 방식을 선택할 수 있도록 이러한 요소를 이해하는 것이 중요합니다."
      ],
      "metadata": {
        "id": "hl3bOSFQCkvP"
      }
    },
    {
      "cell_type": "markdown",
      "source": [
        "# Plotting univariate histograms\n",
        "\n",
        "아마도 분포를 시각화하는 가장 일반적인 접근 방식은 히스토그램일 것입니다. 이것은 `displot()`의 기본 접근 방식이며 `histplot()`과 동일한 기본 코드를 사용합니다. 히스토그램은 데이터 변수를 나타내는 축이 불연속 빈 세트로 나뉘고 각 빈에 속하는 관측값의 수가 해당 막대의 높이를 사용하여 표시되는 막대 그래프입니다.\n"
      ],
      "metadata": {
        "id": "MIzvM3TnCkrA"
      }
    },
    {
      "cell_type": "code",
      "source": [
        "import seaborn as sns"
      ],
      "metadata": {
        "id": "HVIZtt50DDF1"
      },
      "execution_count": 1,
      "outputs": []
    },
    {
      "cell_type": "code",
      "source": [
        "penguins = sns.load_dataset(\"penguins\")\n",
        "sns.displot(penguins, x=\"flipper_length_mm\")"
      ],
      "metadata": {
        "colab": {
          "base_uri": "https://localhost:8080/",
          "height": 524
        },
        "id": "J0MabnYcDGG2",
        "outputId": "c35e0d56-36cd-4a69-a483-d225f82d89d4"
      },
      "execution_count": 2,
      "outputs": [
        {
          "output_type": "execute_result",
          "data": {
            "text/plain": [
              "<seaborn.axisgrid.FacetGrid at 0x7f1040624eb0>"
            ]
          },
          "metadata": {},
          "execution_count": 2
        },
        {
          "output_type": "display_data",
          "data": {
            "text/plain": [
              "<Figure size 500x500 with 1 Axes>"
            ],
            "image/png": "[encoded data removed]"
          },
          "metadata": {}
        }
      ]
    },
    {
      "cell_type": "markdown",
      "source": [
        "\n",
        "이 플롯은 `flipper_length_mm` 변수에 대한 몇 가지 통찰력을 즉시 제공합니다. 예를 들어 가장 일반적인 지느러미 길이는 약 195mm이지만 분포가 이봉으로 나타나므로 이 숫자 하나는 데이터를 잘 나타내지 않습니다."
      ],
      "metadata": {
        "id": "vA9iqzcHDJlC"
      }
    },
    {
      "cell_type": "markdown",
      "source": [
        "## 1-1. Choosing the bin size"
      ],
      "metadata": {
        "id": "rWLedrRBDNEE"
      }
    },
    {
      "cell_type": "code",
      "source": [],
      "metadata": {
        "id": "SWEoabjTDGfb"
      },
      "execution_count": null,
      "outputs": []
    },
    {
      "cell_type": "markdown",
      "source": [],
      "metadata": {
        "id": "39Hwo_raCkkm"
      }
    },
    {
      "cell_type": "code",
      "execution_count": null,
      "metadata": {
        "id": "W6ufMb-dCflG"
      },
      "outputs": [],
      "source": []
    }
  ]
}